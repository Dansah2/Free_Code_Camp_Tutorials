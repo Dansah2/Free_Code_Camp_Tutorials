{
  "nbformat": 4,
  "nbformat_minor": 0,
  "metadata": {
    "colab": {
      "provenance": [],
      "gpuType": "T4",
      "authorship_tag": "ABX9TyN/RmCCV0jXCetGCBy7JMsz",
      "include_colab_link": true
    },
    "kernelspec": {
      "name": "python3",
      "display_name": "Python 3"
    },
    "language_info": {
      "name": "python"
    },
    "accelerator": "GPU",
    "gpuClass": "standard"
  },
  "cells": [
    {
      "cell_type": "markdown",
      "metadata": {
        "id": "view-in-github",
        "colab_type": "text"
      },
      "source": [
        "<a href=\"https://colab.research.google.com/github/Dansah2/Free_Code_Camp_Tutorials/blob/main/01_Pytorch_workflow.ipynb\" target=\"_parent\"><img src=\"https://colab.research.google.com/assets/colab-badge.svg\" alt=\"Open In Colab\"/></a>"
      ]
    },
    {
      "cell_type": "markdown",
      "source": [
        "Pytorch Workflow"
      ],
      "metadata": {
        "id": "DWcQQZwLsHiZ"
      }
    },
    {
      "cell_type": "code",
      "execution_count": null,
      "metadata": {
        "id": "_8HUNzNAsF7T"
      },
      "outputs": [],
      "source": [
        "import torch\n",
        "from torch import nn #contains everything for building neural nets\n",
        "import matplotlib.pyplot as plt\n",
        "import numpy as np\n",
        "\n",
        "\n",
        "#torch.__version__"
      ]
    },
    {
      "cell_type": "code",
      "source": [
        "# Data Loading and Preparing\n",
        "# this can be almost anything\n",
        "# excel, images, videos, audio, DNA, Text\n",
        "\n",
        "# machine learning is a game of two parts,\n",
        "# 1) get data in to a numerical representation\n",
        "# 2) build a model to learn patterns  in that numerical representation"
      ],
      "metadata": {
        "id": "OtbaCZK3ttmP"
      },
      "execution_count": null,
      "outputs": []
    },
    {
      "cell_type": "code",
      "source": [
        "# lets create known data using linear regression formula\n",
        "\n",
        "# create known parameters\n",
        "weight = 0.7\n",
        "bias = 0.3\n",
        "\n",
        "start = 0\n",
        "end = 1\n",
        "step = 0.02\n",
        "\n",
        "X = torch.arange(start, end, step).unsqueeze(dim=1)\n",
        "y = weight * X * bias\n",
        "\n",
        "X[:10], y[:10]"
      ],
      "metadata": {
        "colab": {
          "base_uri": "https://localhost:8080/"
        },
        "id": "wpBq4F2JudxC",
        "outputId": "295cc836-eb77-4522-e7e6-7cd64940dc5d"
      },
      "execution_count": null,
      "outputs": [
        {
          "output_type": "execute_result",
          "data": {
            "text/plain": [
              "(tensor([[0.0000],\n",
              "         [0.0200],\n",
              "         [0.0400],\n",
              "         [0.0600],\n",
              "         [0.0800],\n",
              "         [0.1000],\n",
              "         [0.1200],\n",
              "         [0.1400],\n",
              "         [0.1600],\n",
              "         [0.1800]]),\n",
              " tensor([[0.0000],\n",
              "         [0.0042],\n",
              "         [0.0084],\n",
              "         [0.0126],\n",
              "         [0.0168],\n",
              "         [0.0210],\n",
              "         [0.0252],\n",
              "         [0.0294],\n",
              "         [0.0336],\n",
              "         [0.0378]]))"
            ]
          },
          "metadata": {},
          "execution_count": 3
        }
      ]
    },
    {
      "cell_type": "code",
      "source": [
        "len(X), len(y)"
      ],
      "metadata": {
        "colab": {
          "base_uri": "https://localhost:8080/"
        },
        "id": "EAC3OuqHwf3L",
        "outputId": "abc4a046-e6de-4b15-8fa1-5cf1474bfa1b"
      },
      "execution_count": null,
      "outputs": [
        {
          "output_type": "execute_result",
          "data": {
            "text/plain": [
              "(50, 50)"
            ]
          },
          "metadata": {},
          "execution_count": 4
        }
      ]
    },
    {
      "cell_type": "code",
      "source": [
        "# Splitting data in train and test sets\n",
        "train_split = int(0.8 * len(X))\n",
        "X_train, y_train = X[:train_split], y[:train_split]\n",
        "X_test, y_test = X[train_split:], y[train_split:]\n",
        "\n",
        "len(X_train), len(y_train), len(X_test), len(y_test)"
      ],
      "metadata": {
        "colab": {
          "base_uri": "https://localhost:8080/"
        },
        "id": "fgIoD2rQwmS5",
        "outputId": "d88f069b-b4c4-4747-9109-5f8f10f980c6"
      },
      "execution_count": null,
      "outputs": [
        {
          "output_type": "execute_result",
          "data": {
            "text/plain": [
              "(40, 40, 10, 10)"
            ]
          },
          "metadata": {},
          "execution_count": 5
        }
      ]
    },
    {
      "cell_type": "code",
      "source": [
        "# visualize the data\n",
        "def plot_predictions(train_data=X_train,\n",
        "                     train_labels=y_train,\n",
        "                     test_data=X_test,\n",
        "                     test_labels=y_test,\n",
        "                     predictions=None):\n",
        "  plt.figure(figsize=(10,7))\n",
        "  # plot training data in blue\n",
        "  plt.scatter(train_data, train_labels, c='b', s=4, label='Training Data')\n",
        "  # plot testing data in green\n",
        "  plt.scatter(test_data, test_labels, c='g', s=4, label='Testing Data')\n",
        "  # are there predictions?\n",
        "  if predictions is not None:\n",
        "    # plot predictions if they exist\n",
        "    plt.scatter(test_data, predictions, c='r', s=4, label='Predictions')\n",
        "\n",
        "  #show legend\n",
        "  plt.legend(prop={'size':14});\n",
        "\n",
        "  plt.show()\n"
      ],
      "metadata": {
        "id": "yf623kXdys_Q"
      },
      "execution_count": null,
      "outputs": []
    },
    {
      "cell_type": "code",
      "source": [
        "plot_predictions()"
      ],
      "metadata": {
        "colab": {
          "base_uri": "https://localhost:8080/",
          "height": 455
        },
        "id": "ueAy9ovf1iT5",
        "outputId": "2f9afe26-5ba3-450d-fa0b-07d576a6fd60"
      },
      "execution_count": null,
      "outputs": [
        {
          "output_type": "display_data",
          "data": {
            "text/plain": [
              "<Figure size 1000x700 with 1 Axes>"
            ],
            "image/png": "[encoded data removed]"
          },
          "metadata": {}
        }
      ]
    },
    {
      "cell_type": "code",
      "source": [
        "# Create a linear regression model class\n",
        "class LinearRegressionModel(nn.Module): # almost everything in pytorch inherits from nn.Module\n",
        "  def __init__(self):\n",
        "    super().__init__()\n",
        "    self.weights = nn.Parameter(torch.randn(1,\n",
        "                                            requires_grad=True,\n",
        "                                            dtype=torch.float))\n",
        "    self.bias = nn.Parameter(torch.randn(1,\n",
        "                                            requires_grad=True,\n",
        "                                            dtype=torch.float))\n",
        "\n",
        "  # forward method to define the computation in the model\n",
        "\n",
        "  def forward(self, x: torch.Tensor) -> torch.Tensor: # x is the input data\n",
        "    return self.weights * x + self.bias # this is the linear regression formula\n"
      ],
      "metadata": {
        "id": "zipBUcq1ctXY"
      },
      "execution_count": null,
      "outputs": []
    },
    {
      "cell_type": "code",
      "source": [
        "### PyTorch model building essentials\n",
        "# torch.nn - contains all the building blocks for a computational graph\n",
        "# torch.nn.Parameter - what parameters should our model try to learn\n",
        "# torch.nn.Module - the base class for neural nets, if you subclass it you should overwrite forward method\n",
        "# torch.optim - this is where the optimizers live; they help with gradient descent\n",
        "# def forward() - all nn.Module subclasses require you to overwirite forward()"
      ],
      "metadata": {
        "id": "WYINH3vUhReh"
      },
      "execution_count": null,
      "outputs": []
    },
    {
      "cell_type": "code",
      "source": [
        "# checking the contents of the model\n",
        "\n",
        "# check the parameters of the model, start with a random seed\n",
        "torch.manual_seed(42)\n",
        "\n",
        "# create an instance of the model\n",
        "model_0 = LinearRegressionModel()\n",
        "\n",
        "# now check the parameters\n",
        "list(model_0.parameters())"
      ],
      "metadata": {
        "colab": {
          "base_uri": "https://localhost:8080/"
        },
        "id": "rJ5oWId7kNbU",
        "outputId": "87f6c88a-b8b8-4c99-ba37-32e66203d830"
      },
      "execution_count": null,
      "outputs": [
        {
          "output_type": "execute_result",
          "data": {
            "text/plain": [
              "[Parameter containing:\n",
              " tensor([0.3367], requires_grad=True),\n",
              " Parameter containing:\n",
              " tensor([0.1288], requires_grad=True)]"
            ]
          },
          "metadata": {},
          "execution_count": 10
        }
      ]
    },
    {
      "cell_type": "code",
      "source": [
        "# list named parameters\n",
        "model_0.state_dict()"
      ],
      "metadata": {
        "colab": {
          "base_uri": "https://localhost:8080/"
        },
        "id": "irKwBHdXltxp",
        "outputId": "fef644fb-16a3-4c5d-dd9b-4e78550df68f"
      },
      "execution_count": null,
      "outputs": [
        {
          "output_type": "execute_result",
          "data": {
            "text/plain": [
              "OrderedDict([('weights', tensor([0.3367])), ('bias', tensor([0.1288]))])"
            ]
          },
          "metadata": {},
          "execution_count": 11
        }
      ]
    },
    {
      "cell_type": "code",
      "source": [
        "# making predictions using torch.inference_mode()\n",
        "# inference mode disables all things needed for training\n",
        "with torch.inference_mode():\n",
        "  y_preds = model_0(X_test)\n",
        "\n",
        "print(y_preds)\n",
        "print(len(X_test))\n",
        "print(len(y_preds))"
      ],
      "metadata": {
        "colab": {
          "base_uri": "https://localhost:8080/"
        },
        "id": "KjeSulJLmdcj",
        "outputId": "e27177ea-d4e3-464f-ea2a-04f3e4b09ede"
      },
      "execution_count": null,
      "outputs": [
        {
          "output_type": "stream",
          "name": "stdout",
          "text": [
            "tensor([[0.3982],\n",
            "        [0.4049],\n",
            "        [0.4116],\n",
            "        [0.4184],\n",
            "        [0.4251],\n",
            "        [0.4318],\n",
            "        [0.4386],\n",
            "        [0.4453],\n",
            "        [0.4520],\n",
            "        [0.4588]])\n",
            "10\n",
            "10\n"
          ]
        }
      ]
    },
    {
      "cell_type": "code",
      "source": [
        "y_test"
      ],
      "metadata": {
        "colab": {
          "base_uri": "https://localhost:8080/"
        },
        "id": "4exIMXlxn3tZ",
        "outputId": "54a5e7b6-c9f5-47a8-e1dc-9b94e0f83a96"
      },
      "execution_count": null,
      "outputs": [
        {
          "output_type": "execute_result",
          "data": {
            "text/plain": [
              "tensor([[0.1680],\n",
              "        [0.1722],\n",
              "        [0.1764],\n",
              "        [0.1806],\n",
              "        [0.1848],\n",
              "        [0.1890],\n",
              "        [0.1932],\n",
              "        [0.1974],\n",
              "        [0.2016],\n",
              "        [0.2058]])"
            ]
          },
          "metadata": {},
          "execution_count": 13
        }
      ]
    },
    {
      "cell_type": "markdown",
      "source": [],
      "metadata": {
        "id": "ZD9e7PMXn3b1"
      }
    },
    {
      "cell_type": "code",
      "source": [
        "plot_predictions(predictions=y_preds)"
      ],
      "metadata": {
        "colab": {
          "base_uri": "https://localhost:8080/",
          "height": 460
        },
        "id": "T-_9Cl1IpJjJ",
        "outputId": "67d9ab7a-b1ce-4968-afe4-2be23c29c13f"
      },
      "execution_count": null,
      "outputs": [
        {
          "output_type": "display_data",
          "data": {
            "text/plain": [
              "<Figure size 1000x700 with 1 Axes>"
            ],
            "image/png": "[encoded data removed]"
          },
          "metadata": {}
        }
      ]
    },
    {
      "cell_type": "code",
      "source": [
        "y_test - y_preds"
      ],
      "metadata": {
        "colab": {
          "base_uri": "https://localhost:8080/"
        },
        "id": "7kKOSubccS-E",
        "outputId": "bba1db29-ce55-407e-ac89-27eb8dc6d60c"
      },
      "execution_count": null,
      "outputs": [
        {
          "output_type": "execute_result",
          "data": {
            "text/plain": [
              "tensor([[-0.2302],\n",
              "        [-0.2327],\n",
              "        [-0.2352],\n",
              "        [-0.2378],\n",
              "        [-0.2403],\n",
              "        [-0.2428],\n",
              "        [-0.2454],\n",
              "        [-0.2479],\n",
              "        [-0.2504],\n",
              "        [-0.2530]])"
            ]
          },
          "metadata": {},
          "execution_count": 15
        }
      ]
    },
    {
      "cell_type": "code",
      "source": [
        "# train the model\n",
        "# to measure how wrong the predictions are use a loss function\n",
        "# loss function may be called cost function or criterion in other cases\n",
        "# for pytorch we need a training loop and testing loop"
      ],
      "metadata": {
        "id": "V0dRzEkWwxMZ"
      },
      "execution_count": null,
      "outputs": []
    },
    {
      "cell_type": "code",
      "source": [
        "# set up loss function\n",
        "loss_fn = nn.L1Loss()\n",
        "\n",
        "# set up optimizer\n",
        "optimizer = torch.optim.SGD(params=model_0.parameters(),\n",
        "                            lr=0.01)"
      ],
      "metadata": {
        "id": "f4jpo_4-ysnA"
      },
      "execution_count": null,
      "outputs": []
    },
    {
      "cell_type": "code",
      "source": [
        "#building both a training and testing loop\n",
        "# loop through the data\n",
        "# forward pass or forward propagation(data moves through the foward functions\n",
        "# calculate the loss (compare predictions to truth labels)\n",
        "# Optimizer zero grad\n",
        "# Loss backward or back propagation (data moves backward through the network to calculate gradients of each parameters with respect to loss)\n",
        "# Optimizer step - use the optimizer to adjust model's parameters to improve the loss"
      ],
      "metadata": {
        "id": "2qmx49vk2RKj"
      },
      "execution_count": null,
      "outputs": []
    },
    {
      "cell_type": "code",
      "source": [
        "#set manual seed\n",
        "torch.manual_seed(42)\n",
        "\n",
        "# An epoch is one loop through the data, this is a hyperparameter because we set them ourselves\n",
        "epochs = 60\n",
        "\n",
        "# track different values\n",
        "epoch_count = []\n",
        "loss_values = []\n",
        "test_loss_value = []\n",
        "\n",
        "### Training\n",
        "# loop through the data\n",
        "for epoch in range(epochs):\n",
        "  #set the model to training mode\n",
        "  model_0.train() # sets all parameters that require gradients to requre gradients\n",
        "\n",
        "  # forward pass\n",
        "  y_pred = model_0(X_train)\n",
        "\n",
        "  #calculate the loss\n",
        "  loss = loss_fn(y_pred, y_train)\n",
        "\n",
        "  #optimizer zero grad\n",
        "  optimizer.zero_grad()\n",
        "\n",
        "  # backpropagation\n",
        "  loss.backward()\n",
        "\n",
        "  #step the optimizer, this zeros out the optimizer\n",
        "  optimizer.step()\n",
        "\n",
        "  # Testing (turns off gradient tracking)\n",
        "  model_0.eval()\n",
        "  with torch.inference_mode():\n",
        "    # forward pass\n",
        "    test_pred = model_0(X_test)\n",
        "\n",
        "    #calculate loss\n",
        "    test_loss = loss_fn(test_pred, y_test)\n",
        "\n",
        "  if epoch % 10 == 0:\n",
        "    epoch_count.append(epoch)\n",
        "    loss_values.append(loss)\n",
        "    test_loss_value.append(test_loss)\n",
        "    #prints out what is happening\n",
        "    print(f\"Epoch: {epoch} | Loss: {loss} | Test loss: {test_loss}\")\n",
        "\n",
        "    #print out model state_dict()\n",
        "    print(model_0.state_dict())"
      ],
      "metadata": {
        "colab": {
          "base_uri": "https://localhost:8080/"
        },
        "id": "M1SyB-F_349V",
        "outputId": "d83e4dde-9236-4250-e496-5ab9da1ce093"
      },
      "execution_count": null,
      "outputs": [
        {
          "output_type": "stream",
          "name": "stdout",
          "text": [
            "Epoch: 0 | Loss: 0.17821863293647766 | Test loss: 0.22809283435344696\n",
            "OrderedDict([('weights', tensor([0.3328])), ('bias', tensor([0.1188]))])\n",
            "Epoch: 10 | Loss: 0.06300870329141617 | Test loss: 0.09338293969631195\n",
            "OrderedDict([('weights', tensor([0.2938])), ('bias', tensor([0.0188]))])\n",
            "Epoch: 20 | Loss: 0.01129001285880804 | Test loss: 0.025797033682465553\n",
            "OrderedDict([('weights', tensor([0.2645])), ('bias', tensor([-0.0227]))])\n",
            "Epoch: 30 | Loss: 0.007851206697523594 | Test loss: 0.0175245963037014\n",
            "OrderedDict([('weights', tensor([0.2473])), ('bias', tensor([-0.0157]))])\n",
            "Epoch: 40 | Loss: 0.0044124070554971695 | Test loss: 0.009252198040485382\n",
            "OrderedDict([('weights', tensor([0.2302])), ('bias', tensor([-0.0087]))])\n",
            "Epoch: 50 | Loss: 0.009151091799139977 | Test loss: 0.0006053060060366988\n",
            "OrderedDict([('weights', tensor([0.2160])), ('bias', tensor([-0.0047]))])\n"
          ]
        }
      ]
    },
    {
      "cell_type": "code",
      "source": [
        "plt.plot(epoch_count, np.array(torch.tensor(loss_values).numpy()), label=\"Train Loss\")\n",
        "plt.plot(epoch_count, test_loss_value, label=\"Test loss\")\n",
        "plt.title(\"Training and test loss curves\")\n",
        "plt.ylabel('Loss')\n",
        "plt.xlabel('Epochs')\n",
        "plt.legend();"
      ],
      "metadata": {
        "colab": {
          "base_uri": "https://localhost:8080/",
          "height": 472
        },
        "id": "rUIZynoWXmIs",
        "outputId": "f9df7e40-e730-45cd-a9ee-34964fd9698f"
      },
      "execution_count": null,
      "outputs": [
        {
          "output_type": "display_data",
          "data": {
            "text/plain": [
              "<Figure size 640x480 with 1 Axes>"
            ],
            "image/png": "[encoded data removed]"
          },
          "metadata": {}
        }
      ]
    },
    {
      "cell_type": "code",
      "source": [
        "with torch.inference_mode():\n",
        "  y_preds_new = model_0(X_test)\n"
      ],
      "metadata": {
        "id": "prWQFNWQ_-RN"
      },
      "execution_count": null,
      "outputs": []
    },
    {
      "cell_type": "code",
      "source": [
        "# old predictions\n",
        "plot_predictions(predictions=y_preds)"
      ],
      "metadata": {
        "colab": {
          "base_uri": "https://localhost:8080/",
          "height": 460
        },
        "id": "EQv4ZVwTBKd6",
        "outputId": "1c80f7a4-bf12-4099-f7b0-e070d5392e76"
      },
      "execution_count": null,
      "outputs": [
        {
          "output_type": "display_data",
          "data": {
            "text/plain": [
              "<Figure size 1000x700 with 1 Axes>"
            ],
            "image/png": "[encoded data removed]"
          },
          "metadata": {}
        }
      ]
    },
    {
      "cell_type": "code",
      "source": [
        "# new predictions after training\n",
        "plot_predictions(predictions=y_preds_new)"
      ],
      "metadata": {
        "colab": {
          "base_uri": "https://localhost:8080/",
          "height": 455
        },
        "id": "p6SyYo3vBSNH",
        "outputId": "d16d85a0-1d87-4c81-ff18-27f24ae1f976"
      },
      "execution_count": null,
      "outputs": [
        {
          "output_type": "display_data",
          "data": {
            "text/plain": [
              "<Figure size 1000x700 with 1 Axes>"
            ],
            "image/png": "[encoded data removed]"
          },
          "metadata": {}
        }
      ]
    },
    {
      "cell_type": "code",
      "source": [
        "## Saving/Loading a model in Pytorch\n",
        "# three methods\n",
        "\n",
        "# 1) torch.save() - can save in python pickle format\n",
        "# 2) torch.load() - save python object\n",
        "# 3) torch.nn.Module.load_state_dict() - load model's saved state dictionary"
      ],
      "metadata": {
        "id": "muMgNjLVdAGr"
      },
      "execution_count": null,
      "outputs": []
    },
    {
      "cell_type": "code",
      "source": [
        "# Create the path where the model will be saved\n",
        "\n",
        "from pathlib import Path\n",
        "# create models directory\n",
        "MODEL_PATH = Path(\"models\")\n",
        "MODEL_PATH.mkdir(parents=True, exist_ok=True)\n",
        "\n",
        "#create model save path\n",
        "MODEL_NAME = \"01_pytorch_workflow_model_0.pth\"\n",
        "MODEL_SAVE_PATH = MODEL_PATH / MODEL_NAME\n",
        "\n",
        "MODEL_SAVE_PATH"
      ],
      "metadata": {
        "colab": {
          "base_uri": "https://localhost:8080/"
        },
        "id": "S-GKd3AEeIfY",
        "outputId": "e13e72a7-5cfa-4ad2-a4ed-bea47286db77"
      },
      "execution_count": null,
      "outputs": [
        {
          "output_type": "execute_result",
          "data": {
            "text/plain": [
              "PosixPath('models/01_pytorch_workflow_model_0.pth')"
            ]
          },
          "metadata": {},
          "execution_count": 25
        }
      ]
    },
    {
      "cell_type": "code",
      "source": [
        "# save the state_dict of the model\n",
        "print(f'Saveing the model to {MODEL_SAVE_PATH}')\n",
        "torch.save(obj=model_0.state_dict(), f=MODEL_SAVE_PATH)"
      ],
      "metadata": {
        "colab": {
          "base_uri": "https://localhost:8080/"
        },
        "id": "xfCLQG1Gfc8v",
        "outputId": "c4a2526a-f88e-4198-f38c-6ff9ef7625ad"
      },
      "execution_count": null,
      "outputs": [
        {
          "output_type": "stream",
          "name": "stdout",
          "text": [
            "Saveing the model to models/01_pytorch_workflow_model_0.pth\n"
          ]
        }
      ]
    },
    {
      "cell_type": "code",
      "source": [
        "# check to see if the state_dict of model was saved\n",
        "!ls -1 models"
      ],
      "metadata": {
        "colab": {
          "base_uri": "https://localhost:8080/"
        },
        "id": "izFVoHGXgbsl",
        "outputId": "e6a8829b-c7a4-45ba-e273-8a30ce01e81c"
      },
      "execution_count": null,
      "outputs": [
        {
          "output_type": "stream",
          "name": "stdout",
          "text": [
            "01_pytorch_workflow_model_0.pth\n"
          ]
        }
      ]
    },
    {
      "cell_type": "code",
      "source": [
        "## Loading a pytorch model\n",
        "# we must instantiate a new instance of our model class"
      ],
      "metadata": {
        "id": "axMsYUSUhFJW"
      },
      "execution_count": null,
      "outputs": []
    },
    {
      "cell_type": "code",
      "source": [
        "# reminder of what we saved\n",
        "model_0.state_dict()"
      ],
      "metadata": {
        "colab": {
          "base_uri": "https://localhost:8080/"
        },
        "id": "hdR7mCb7iUmo",
        "outputId": "1e6ca3e9-9b65-485c-a1c3-ab71f92977a2"
      },
      "execution_count": null,
      "outputs": [
        {
          "output_type": "execute_result",
          "data": {
            "text/plain": [
              "OrderedDict([('weights', tensor([0.2199])), ('bias', tensor([0.0053]))])"
            ]
          },
          "metadata": {},
          "execution_count": 29
        }
      ]
    },
    {
      "cell_type": "code",
      "source": [
        "#instantiate new instance of the model\n",
        "loaded_model_0 = LinearRegressionModel()\n",
        "\n",
        "#load saved state_dict\n",
        "loaded_model_0.load_state_dict(torch.load(f=MODEL_SAVE_PATH))\n"
      ],
      "metadata": {
        "colab": {
          "base_uri": "https://localhost:8080/"
        },
        "id": "AxfcjSaahX_s",
        "outputId": "9d2d1b42-e947-449a-b798-cc3bc3d128cc"
      },
      "execution_count": null,
      "outputs": [
        {
          "output_type": "execute_result",
          "data": {
            "text/plain": [
              "<All keys matched successfully>"
            ]
          },
          "metadata": {},
          "execution_count": 30
        }
      ]
    },
    {
      "cell_type": "code",
      "source": [
        "#check to make sure the values match what we saved\n",
        "loaded_model_0.state_dict()"
      ],
      "metadata": {
        "colab": {
          "base_uri": "https://localhost:8080/"
        },
        "id": "ghqh61wOjSM7",
        "outputId": "c2251558-de71-4f49-be5c-8884d321b0fe"
      },
      "execution_count": null,
      "outputs": [
        {
          "output_type": "execute_result",
          "data": {
            "text/plain": [
              "OrderedDict([('weights', tensor([0.2199])), ('bias', tensor([0.0053]))])"
            ]
          },
          "metadata": {},
          "execution_count": 31
        }
      ]
    },
    {
      "cell_type": "code",
      "source": [
        "from numpy.lib.npyio import load\n",
        "# make some predicitons with the loaded model\n",
        "loaded_model_0.eval()\n",
        "with torch.inference_mode():\n",
        "  loaded_model_preds = loaded_model_0(X_test)\n",
        "\n",
        "loaded_model_preds"
      ],
      "metadata": {
        "colab": {
          "base_uri": "https://localhost:8080/"
        },
        "id": "7Rht4DoUjg11",
        "outputId": "f1802235-a4f4-436a-f93c-f608809081c7"
      },
      "execution_count": null,
      "outputs": [
        {
          "output_type": "execute_result",
          "data": {
            "text/plain": [
              "tensor([[0.1812],\n",
              "        [0.1856],\n",
              "        [0.1900],\n",
              "        [0.1944],\n",
              "        [0.1988],\n",
              "        [0.2032],\n",
              "        [0.2076],\n",
              "        [0.2120],\n",
              "        [0.2164],\n",
              "        [0.2208]])"
            ]
          },
          "metadata": {},
          "execution_count": 32
        }
      ]
    },
    {
      "cell_type": "code",
      "source": [
        "# make predictions with the original model\n",
        "model_0.eval()\n",
        "with torch.inference_mode():\n",
        "  y_preds = model_0(X_test)\n",
        "\n",
        "y_preds"
      ],
      "metadata": {
        "colab": {
          "base_uri": "https://localhost:8080/"
        },
        "id": "OiYFyr-mkV0q",
        "outputId": "6c9e197a-37da-45f4-c46e-6022c51486be"
      },
      "execution_count": null,
      "outputs": [
        {
          "output_type": "execute_result",
          "data": {
            "text/plain": [
              "tensor([[0.1812],\n",
              "        [0.1856],\n",
              "        [0.1900],\n",
              "        [0.1944],\n",
              "        [0.1988],\n",
              "        [0.2032],\n",
              "        [0.2076],\n",
              "        [0.2120],\n",
              "        [0.2164],\n",
              "        [0.2208]])"
            ]
          },
          "metadata": {},
          "execution_count": 33
        }
      ]
    },
    {
      "cell_type": "code",
      "source": [
        "# compare the loaded model to the initial model\n",
        "y_preds == loaded_model_preds"
      ],
      "metadata": {
        "colab": {
          "base_uri": "https://localhost:8080/"
        },
        "id": "z48MFuWyj5bQ",
        "outputId": "28df2f55-5383-4c87-cf3d-6cad05c48f01"
      },
      "execution_count": null,
      "outputs": [
        {
          "output_type": "execute_result",
          "data": {
            "text/plain": [
              "tensor([[True],\n",
              "        [True],\n",
              "        [True],\n",
              "        [True],\n",
              "        [True],\n",
              "        [True],\n",
              "        [True],\n",
              "        [True],\n",
              "        [True],\n",
              "        [True]])"
            ]
          },
          "metadata": {},
          "execution_count": 34
        }
      ]
    },
    {
      "cell_type": "markdown",
      "source": [
        "## Putting it all together\n"
      ],
      "metadata": {
        "id": "3R4CF-nQ5IV7"
      }
    },
    {
      "cell_type": "code",
      "source": [
        "import torch\n",
        "from torch import nn\n",
        "import matplotlib.pyplot as plt\n",
        "\n",
        "#check version\n",
        "torch.__version__"
      ],
      "metadata": {
        "colab": {
          "base_uri": "https://localhost:8080/",
          "height": 35
        },
        "id": "DOzWHJE45NyJ",
        "outputId": "7243a366-594e-4842-be7b-fb7164f15720"
      },
      "execution_count": null,
      "outputs": [
        {
          "output_type": "execute_result",
          "data": {
            "text/plain": [
              "'2.0.0+cu118'"
            ],
            "application/vnd.google.colaboratory.intrinsic+json": {
              "type": "string"
            }
          },
          "metadata": {},
          "execution_count": 35
        }
      ]
    },
    {
      "cell_type": "markdown",
      "source": [
        "Create Device Agnostic code\n",
        "\n",
        " if GPU is available, we will use it, else use CPU"
      ],
      "metadata": {
        "id": "Uqk6IsbU5eF_"
      }
    },
    {
      "cell_type": "code",
      "source": [
        "device = 'cuda' if torch.cuda.is_available() else 'cpu'\n",
        "print(f\"using device {device}\")"
      ],
      "metadata": {
        "colab": {
          "base_uri": "https://localhost:8080/"
        },
        "id": "kbSl8hUO5one",
        "outputId": "b09e1cda-9c44-40e9-d8a1-d02c808bead8"
      },
      "execution_count": null,
      "outputs": [
        {
          "output_type": "stream",
          "name": "stdout",
          "text": [
            "using device cuda\n"
          ]
        }
      ]
    },
    {
      "cell_type": "markdown",
      "source": [
        "Create data using linear regression formula"
      ],
      "metadata": {
        "id": "p0fqqOax6Nts"
      }
    },
    {
      "cell_type": "code",
      "source": [
        "weight = 0.7\n",
        "bias = 0.3\n",
        "\n",
        "# create range of values\n",
        "start = 0\n",
        "end = 1\n",
        "step = 0.02\n",
        "\n",
        "# create x and y (features and labels)\n",
        "X = torch.arange(start, end, step).unsqueeze(dim=1) # without unsqueeze you will get errors\n",
        "y = weight * X + bias\n",
        "X[:10], y[:10]\n"
      ],
      "metadata": {
        "colab": {
          "base_uri": "https://localhost:8080/"
        },
        "id": "cbnl0WMA6Qvu",
        "outputId": "d30463e2-3787-4061-a591-d668283f5f87"
      },
      "execution_count": null,
      "outputs": [
        {
          "output_type": "execute_result",
          "data": {
            "text/plain": [
              "(tensor([[0.0000],\n",
              "         [0.0200],\n",
              "         [0.0400],\n",
              "         [0.0600],\n",
              "         [0.0800],\n",
              "         [0.1000],\n",
              "         [0.1200],\n",
              "         [0.1400],\n",
              "         [0.1600],\n",
              "         [0.1800]]),\n",
              " tensor([[0.3000],\n",
              "         [0.3140],\n",
              "         [0.3280],\n",
              "         [0.3420],\n",
              "         [0.3560],\n",
              "         [0.3700],\n",
              "         [0.3840],\n",
              "         [0.3980],\n",
              "         [0.4120],\n",
              "         [0.4260]]))"
            ]
          },
          "metadata": {},
          "execution_count": 37
        }
      ]
    },
    {
      "cell_type": "code",
      "source": [
        "# split data\n",
        "train_split2 = int(0.8 * len(X))\n",
        "X_train2, y_train2 = X[:train_split2], y[:train_split2]\n",
        "X_test2, y_test2 = X[train_split2:], y[train_split2:]\n",
        "\n",
        "#check the length of each training and testing set\n",
        "len(X_train2), len(y_train2), len(X_test2), len(y_test2)"
      ],
      "metadata": {
        "colab": {
          "base_uri": "https://localhost:8080/"
        },
        "id": "z0B2PY4b7MFN",
        "outputId": "daf03345-d635-4773-ccab-40b237256d9b"
      },
      "execution_count": null,
      "outputs": [
        {
          "output_type": "execute_result",
          "data": {
            "text/plain": [
              "(40, 40, 10, 10)"
            ]
          },
          "metadata": {},
          "execution_count": 38
        }
      ]
    },
    {
      "cell_type": "code",
      "source": [
        "# plot the data\n",
        "\n",
        "plot_predictions(X_train2, y_train2, X_test2, y_test2)"
      ],
      "metadata": {
        "colab": {
          "base_uri": "https://localhost:8080/",
          "height": 460
        },
        "id": "xFcavZ8K8TH-",
        "outputId": "119bb4ed-5c81-4bc0-bada-e4305ecf8a91"
      },
      "execution_count": null,
      "outputs": [
        {
          "output_type": "display_data",
          "data": {
            "text/plain": [
              "<Figure size 1000x700 with 1 Axes>"
            ],
            "image/png": "[encoded data removed]"
          },
          "metadata": {}
        }
      ]
    },
    {
      "cell_type": "code",
      "source": [
        "# create a pytorch linear model with subclass nn.model\n",
        "\n",
        "class LinearRegressionModelV2(nn.Module):\n",
        "  def __init__(self):\n",
        "    super().__init__()\n",
        "    #use nn.Linear for creating the model parameters\n",
        "    self.linear_layer = nn.Linear(in_features=1, out_features=1)\n",
        "\n",
        "  def forward(self, x: torch.Tensor) -> torch.Tensor:\n",
        "    return self.linear_layer(x)\n",
        "\n",
        "# Set manual seed\n",
        "torch.manual_seed(42)\n",
        "model_1 = LinearRegressionModelV2()\n",
        "model_1, model_1.state_dict()"
      ],
      "metadata": {
        "colab": {
          "base_uri": "https://localhost:8080/"
        },
        "id": "I0yjHaoM8qUU",
        "outputId": "3ccb03d1-a1e9-47aa-ab0d-ee84dbe49d7b"
      },
      "execution_count": null,
      "outputs": [
        {
          "output_type": "execute_result",
          "data": {
            "text/plain": [
              "(LinearRegressionModelV2(\n",
              "   (linear_layer): Linear(in_features=1, out_features=1, bias=True)\n",
              " ),\n",
              " OrderedDict([('linear_layer.weight', tensor([[0.7645]])),\n",
              "              ('linear_layer.bias', tensor([0.8300]))]))"
            ]
          },
          "metadata": {},
          "execution_count": 40
        }
      ]
    },
    {
      "cell_type": "code",
      "source": [
        "# check the current device\n",
        "next(model_1.parameters()).device"
      ],
      "metadata": {
        "colab": {
          "base_uri": "https://localhost:8080/"
        },
        "id": "kC_pI6iYIO-o",
        "outputId": "81ced05e-d759-4d68-e198-39bb1dfa2885"
      },
      "execution_count": null,
      "outputs": [
        {
          "output_type": "execute_result",
          "data": {
            "text/plain": [
              "device(type='cpu')"
            ]
          },
          "metadata": {},
          "execution_count": 41
        }
      ]
    },
    {
      "cell_type": "code",
      "source": [
        "# set model to use target device\n",
        "model_1.to(device)\n",
        "next(model_1.parameters()).device"
      ],
      "metadata": {
        "colab": {
          "base_uri": "https://localhost:8080/"
        },
        "id": "iL4l1ukeII-T",
        "outputId": "a52cded8-6fba-47b2-f9a5-f6348903b7ea"
      },
      "execution_count": null,
      "outputs": [
        {
          "output_type": "execute_result",
          "data": {
            "text/plain": [
              "device(type='cuda', index=0)"
            ]
          },
          "metadata": {},
          "execution_count": 42
        }
      ]
    },
    {
      "cell_type": "markdown",
      "source": [
        "### Training\n",
        "\n",
        "loss function\n",
        "Optimizer\n",
        "Training loop\n",
        "Testing loop"
      ],
      "metadata": {
        "id": "a5OyWsR5JlUM"
      }
    },
    {
      "cell_type": "code",
      "source": [
        "# loss function use L1 for this example\n",
        "loss_fn = nn.L1Loss()\n",
        "\n",
        "#set up optimizer\n",
        "optimizer = torch.optim.SGD(params=model_1.parameters(),\n",
        "                            lr=0.01)"
      ],
      "metadata": {
        "id": "ihglaHI9Jd1J"
      },
      "execution_count": null,
      "outputs": []
    },
    {
      "cell_type": "code",
      "source": [
        "### training loop\n",
        "\n",
        "# set manuel seed\n",
        "torch.manual_seed(42)\n",
        "\n",
        "epochs = 200\n",
        "\n",
        "# put data on the target device (device agnostic code)\n",
        "X_train2 = X_train2.to(device)\n",
        "y_train2 = y_train2.to(device)\n",
        "X_test2 = X_test2.to(device)\n",
        "y_test2 = y_test2.to(device)\n",
        "\n",
        "for epoch in range(epochs):\n",
        "  model_1.train()\n",
        "\n",
        "  #forward pass\n",
        "  y_pred = model_1(X_train2)\n",
        "\n",
        "  #calculate loss\n",
        "  loss = loss_fn(y_pred, y_train2)\n",
        "\n",
        "  # optimizer zero grad\n",
        "  optimizer.zero_grad()\n",
        "\n",
        "  # perform backpropagation\n",
        "  loss.backward()\n",
        "\n",
        "  # optimizer step\n",
        "  optimizer.step()\n",
        "\n",
        "  ### Testing\n",
        "\n",
        "  #put in evaluation mode\n",
        "  model_1.eval()\n",
        "\n",
        "  with torch.inference_mode():\n",
        "    test_pred = model_1(X_test2)\n",
        "\n",
        "    test_loss = loss_fn(test_pred, y_test2)\n",
        "\n",
        "  # print out what's happening\n",
        "  if epoch % 10 == 0:\n",
        "    print(f\"Epoch: {epoch}, Loss: {loss}, Test loss: {test_loss}\")"
      ],
      "metadata": {
        "colab": {
          "base_uri": "https://localhost:8080/"
        },
        "id": "N1XWfEbvKJz2",
        "outputId": "76b8b753-6d17-4662-a08d-73f12a7b5bee"
      },
      "execution_count": null,
      "outputs": [
        {
          "output_type": "stream",
          "name": "stdout",
          "text": [
            "Epoch: 0, Loss: 0.5551779866218567, Test loss: 0.5739762187004089\n",
            "Epoch: 10, Loss: 0.439968079328537, Test loss: 0.4392664134502411\n",
            "Epoch: 20, Loss: 0.3247582018375397, Test loss: 0.30455657839775085\n",
            "Epoch: 30, Loss: 0.20954833924770355, Test loss: 0.16984669864177704\n",
            "Epoch: 40, Loss: 0.09433845430612564, Test loss: 0.03513690456748009\n",
            "Epoch: 50, Loss: 0.023886388167738914, Test loss: 0.04784907028079033\n",
            "Epoch: 60, Loss: 0.019956795498728752, Test loss: 0.045803118497133255\n",
            "Epoch: 70, Loss: 0.016517987474799156, Test loss: 0.037530567497015\n",
            "Epoch: 80, Loss: 0.013089174404740334, Test loss: 0.02994490973651409\n",
            "Epoch: 90, Loss: 0.009653178043663502, Test loss: 0.02167237363755703\n",
            "Epoch: 100, Loss: 0.006215683650225401, Test loss: 0.014086711220443249\n",
            "Epoch: 110, Loss: 0.00278724217787385, Test loss: 0.005814164876937866\n",
            "Epoch: 120, Loss: 0.0012645035749301314, Test loss: 0.013801801018416882\n",
            "Epoch: 130, Loss: 0.0012645035749301314, Test loss: 0.013801801018416882\n",
            "Epoch: 140, Loss: 0.0012645035749301314, Test loss: 0.013801801018416882\n",
            "Epoch: 150, Loss: 0.0012645035749301314, Test loss: 0.013801801018416882\n",
            "Epoch: 160, Loss: 0.0012645035749301314, Test loss: 0.013801801018416882\n",
            "Epoch: 170, Loss: 0.0012645035749301314, Test loss: 0.013801801018416882\n",
            "Epoch: 180, Loss: 0.0012645035749301314, Test loss: 0.013801801018416882\n",
            "Epoch: 190, Loss: 0.0012645035749301314, Test loss: 0.013801801018416882\n"
          ]
        }
      ]
    },
    {
      "cell_type": "code",
      "source": [
        "# evaluate model\n",
        "model_1.state_dict()"
      ],
      "metadata": {
        "colab": {
          "base_uri": "https://localhost:8080/"
        },
        "id": "br9tTDR0PQgs",
        "outputId": "0aa475d7-d427-4d66-a451-198d1eb1638d"
      },
      "execution_count": null,
      "outputs": [
        {
          "output_type": "execute_result",
          "data": {
            "text/plain": [
              "OrderedDict([('linear_layer.weight', tensor([[0.6968]], device='cuda:0')),\n",
              "             ('linear_layer.bias', tensor([0.3025], device='cuda:0'))])"
            ]
          },
          "metadata": {},
          "execution_count": 45
        }
      ]
    },
    {
      "cell_type": "code",
      "source": [
        "# check the weight and bias to see how close the model was\n",
        "weight, bias"
      ],
      "metadata": {
        "colab": {
          "base_uri": "https://localhost:8080/"
        },
        "id": "ZkDSg8-OPZcJ",
        "outputId": "cb3053e4-1587-400d-a71b-9e70afb8ef71"
      },
      "execution_count": null,
      "outputs": [
        {
          "output_type": "execute_result",
          "data": {
            "text/plain": [
              "(0.7, 0.3)"
            ]
          },
          "metadata": {},
          "execution_count": 46
        }
      ]
    },
    {
      "cell_type": "code",
      "source": [
        "## Making and evaluation predictions\n",
        "\n",
        "#put model in evaluation mode\n",
        "model_1.eval()\n",
        "\n",
        "# make predicitons\n",
        "with torch.inference_mode():\n",
        "  y_preds = model_1(X_test2)\n",
        "\n",
        "y_preds"
      ],
      "metadata": {
        "colab": {
          "base_uri": "https://localhost:8080/"
        },
        "id": "V4htYpSoYEUC",
        "outputId": "3ef3ac9d-18d6-44e9-8137-b9887720db47"
      },
      "execution_count": null,
      "outputs": [
        {
          "output_type": "execute_result",
          "data": {
            "text/plain": [
              "tensor([[0.8600],\n",
              "        [0.8739],\n",
              "        [0.8878],\n",
              "        [0.9018],\n",
              "        [0.9157],\n",
              "        [0.9296],\n",
              "        [0.9436],\n",
              "        [0.9575],\n",
              "        [0.9714],\n",
              "        [0.9854]], device='cuda:0')"
            ]
          },
          "metadata": {},
          "execution_count": 47
        }
      ]
    },
    {
      "cell_type": "code",
      "source": [
        "# plot model predicitions\n",
        "plot_predictions(predictions=y_preds.cpu())"
      ],
      "metadata": {
        "colab": {
          "base_uri": "https://localhost:8080/",
          "height": 460
        },
        "id": "gRn46OX5ZAFn",
        "outputId": "5575e608-7a71-4535-bde4-47f1c857651a"
      },
      "execution_count": null,
      "outputs": [
        {
          "output_type": "display_data",
          "data": {
            "text/plain": [
              "<Figure size 1000x700 with 1 Axes>"
            ],
            "image/png": "[encoded data removed]"
          },
          "metadata": {}
        }
      ]
    },
    {
      "cell_type": "code",
      "source": [
        "### Saving & Loading a trained model\n",
        "from pathlib import Path\n",
        "\n",
        "# create model's directory\n",
        "MODEL_PATH = Path('models')\n",
        "MODEL_PATH.mkdir(parents=True, exist_ok=True)\n",
        "\n",
        "# create model path\n",
        "MODEL_NAME = '01_pytorch_workflow_model1_1.pth'\n",
        "MODEL_SAVE_PATH = MODEL_PATH / MODEL_NAME\n",
        "\n",
        "# safe model state dict\n",
        "print(f'saving model to: {MODEL_SAVE_PATH}')\n",
        "torch.save(obj=model_1.state_dict(),\n",
        "           f=MODEL_SAVE_PATH)"
      ],
      "metadata": {
        "colab": {
          "base_uri": "https://localhost:8080/"
        },
        "id": "Adcn7Ed3ZulT",
        "outputId": "384f7fd0-9f97-4914-e46d-dea7436d45d9"
      },
      "execution_count": null,
      "outputs": [
        {
          "output_type": "stream",
          "name": "stdout",
          "text": [
            "saving model to: models/01_pytorch_workflow_model1_1.pth\n"
          ]
        }
      ]
    },
    {
      "cell_type": "code",
      "source": [
        "model_1.state_dict()"
      ],
      "metadata": {
        "colab": {
          "base_uri": "https://localhost:8080/"
        },
        "id": "EA21hUlobYQo",
        "outputId": "6f7169b7-db4a-4459-9d21-493ea4869b3f"
      },
      "execution_count": null,
      "outputs": [
        {
          "output_type": "execute_result",
          "data": {
            "text/plain": [
              "OrderedDict([('linear_layer.weight', tensor([[0.6968]], device='cuda:0')),\n",
              "             ('linear_layer.bias', tensor([0.3025], device='cuda:0'))])"
            ]
          },
          "metadata": {},
          "execution_count": 54
        }
      ]
    },
    {
      "cell_type": "code",
      "source": [
        "# Load a Pytorch model\n",
        "\n",
        "# create new instance\n",
        "loaded_model_1 = LinearRegressionModelV2()\n",
        "\n",
        "#load saved state dict\n",
        "loaded_model_1.load_state_dict(torch.load(MODEL_SAVE_PATH))\n",
        "\n",
        "# put the loaded model onto the device\n",
        "loaded_model_1.to(device)"
      ],
      "metadata": {
        "colab": {
          "base_uri": "https://localhost:8080/"
        },
        "id": "_DHOHnH-bdVW",
        "outputId": "a7e33179-d255-4311-dc96-1e28b8a4a267"
      },
      "execution_count": null,
      "outputs": [
        {
          "output_type": "execute_result",
          "data": {
            "text/plain": [
              "LinearRegressionModelV2(\n",
              "  (linear_layer): Linear(in_features=1, out_features=1, bias=True)\n",
              ")"
            ]
          },
          "metadata": {},
          "execution_count": 55
        }
      ]
    },
    {
      "cell_type": "code",
      "source": [
        "# check if parameters are on the right device\n",
        "next(loaded_model_1.parameters()).device"
      ],
      "metadata": {
        "colab": {
          "base_uri": "https://localhost:8080/"
        },
        "id": "JCHtMwBEcS0E",
        "outputId": "aa1752f8-e6cb-49f6-f03a-47f60385a60f"
      },
      "execution_count": null,
      "outputs": [
        {
          "output_type": "execute_result",
          "data": {
            "text/plain": [
              "device(type='cuda', index=0)"
            ]
          },
          "metadata": {},
          "execution_count": 57
        }
      ]
    },
    {
      "cell_type": "code",
      "source": [
        "loaded_model_1.state_dict()"
      ],
      "metadata": {
        "colab": {
          "base_uri": "https://localhost:8080/"
        },
        "id": "hFRJR1KGdRh4",
        "outputId": "a9caedd3-8141-4086-d4d7-726e9714f9f6"
      },
      "execution_count": null,
      "outputs": [
        {
          "output_type": "execute_result",
          "data": {
            "text/plain": [
              "OrderedDict([('linear_layer.weight', tensor([[0.6968]], device='cuda:0')),\n",
              "             ('linear_layer.bias', tensor([0.3025], device='cuda:0'))])"
            ]
          },
          "metadata": {},
          "execution_count": 58
        }
      ]
    },
    {
      "cell_type": "code",
      "source": [
        "# evaluated loaded model\n",
        "\n",
        "loaded_model_1.eval()\n",
        "with torch.inference_mode():\n",
        "  loaded_model_1_preds = loaded_model_1(X_test2)\n",
        "\n",
        "y_preds == loaded_model_1_preds"
      ],
      "metadata": {
        "colab": {
          "base_uri": "https://localhost:8080/"
        },
        "id": "geF0zZiodYGt",
        "outputId": "a9e76982-36c4-42c9-a99a-f0e259f15c03"
      },
      "execution_count": null,
      "outputs": [
        {
          "output_type": "execute_result",
          "data": {
            "text/plain": [
              "tensor([[True],\n",
              "        [True],\n",
              "        [True],\n",
              "        [True],\n",
              "        [True],\n",
              "        [True],\n",
              "        [True],\n",
              "        [True],\n",
              "        [True],\n",
              "        [True]], device='cuda:0')"
            ]
          },
          "metadata": {},
          "execution_count": 59
        }
      ]
    }
  ]
}