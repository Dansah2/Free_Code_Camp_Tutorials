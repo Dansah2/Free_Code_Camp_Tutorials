{
  "nbformat": 4,
  "nbformat_minor": 0,
  "metadata": {
    "colab": {
      "provenance": [],
      "gpuType": "T4",
      "authorship_tag": "ABX9TyO5s/dXcPGlRvl/UNpdE5t9",
      "include_colab_link": true
    },
    "kernelspec": {
      "name": "python3",
      "display_name": "Python 3"
    },
    "language_info": {
      "name": "python"
    },
    "accelerator": "GPU",
    "gpuClass": "standard"
  },
  "cells": [
    {
      "cell_type": "markdown",
      "metadata": {
        "id": "view-in-github",
        "colab_type": "text"
      },
      "source": [
        "<a href=\"https://colab.research.google.com/github/Dansah2/Free_Code_Camp_Tutorials/blob/main/Pytorch_EX_2.ipynb\" target=\"_parent\"><img src=\"https://colab.research.google.com/assets/colab-badge.svg\" alt=\"Open In Colab\"/></a>"
      ]
    },
    {
      "cell_type": "code",
      "execution_count": null,
      "metadata": {
        "colab": {
          "base_uri": "https://localhost:8080/",
          "height": 35
        },
        "id": "NiJGtGAbhtuE",
        "outputId": "c93386f0-b8a8-46b0-e0c1-b725fb94a750"
      },
      "outputs": [
        {
          "output_type": "execute_result",
          "data": {
            "text/plain": [
              "'2.0.0+cu118'"
            ],
            "application/vnd.google.colaboratory.intrinsic+json": {
              "type": "string"
            }
          },
          "metadata": {},
          "execution_count": 45
        }
      ],
      "source": [
        "import torch\n",
        "from torch import nn\n",
        "import matplotlib.pyplot as plt\n",
        "import numpy as np\n",
        "\n",
        "torch.__version__"
      ]
    },
    {
      "cell_type": "code",
      "source": [
        "device = 'cuda' if torch.cuda.is_available() else 'cpu'\n",
        "print(f\"Using device: {device}\")"
      ],
      "metadata": {
        "colab": {
          "base_uri": "https://localhost:8080/"
        },
        "id": "ZoJmz24DTuoi",
        "outputId": "0b3a0de9-beeb-45e8-870c-02d2f3b7ac3c"
      },
      "execution_count": null,
      "outputs": [
        {
          "output_type": "stream",
          "name": "stdout",
          "text": [
            "Using device: cuda\n"
          ]
        }
      ]
    },
    {
      "cell_type": "code",
      "source": [
        "# create known data\n",
        "\n",
        "#parameters\n",
        "weights = 0.3\n",
        "bias = 0.9\n",
        "\n",
        "start = 0 \n",
        "end = 1\n",
        "step = 0.02\n",
        "X = torch.arange(start, end, step).unsqueeze(dim=1)\n",
        "y = weights * X * bias\n",
        "\n",
        "X[:10], y[:10]"
      ],
      "metadata": {
        "colab": {
          "base_uri": "https://localhost:8080/"
        },
        "id": "QOM1JhtOiZYG",
        "outputId": "b2870e18-752f-4ea6-fb39-90d8ff2a31f8"
      },
      "execution_count": null,
      "outputs": [
        {
          "output_type": "execute_result",
          "data": {
            "text/plain": [
              "(tensor([[0.0000],\n",
              "         [0.0200],\n",
              "         [0.0400],\n",
              "         [0.0600],\n",
              "         [0.0800],\n",
              "         [0.1000],\n",
              "         [0.1200],\n",
              "         [0.1400],\n",
              "         [0.1600],\n",
              "         [0.1800]]),\n",
              " tensor([[0.0000],\n",
              "         [0.0054],\n",
              "         [0.0108],\n",
              "         [0.0162],\n",
              "         [0.0216],\n",
              "         [0.0270],\n",
              "         [0.0324],\n",
              "         [0.0378],\n",
              "         [0.0432],\n",
              "         [0.0486]]))"
            ]
          },
          "metadata": {},
          "execution_count": 47
        }
      ]
    },
    {
      "cell_type": "code",
      "source": [
        "# check the length\n",
        "\n",
        "len(X), len(y)"
      ],
      "metadata": {
        "colab": {
          "base_uri": "https://localhost:8080/"
        },
        "id": "W_92iTB2jWpS",
        "outputId": "86148934-d16b-47c6-fe7d-3cca311ad465"
      },
      "execution_count": null,
      "outputs": [
        {
          "output_type": "execute_result",
          "data": {
            "text/plain": [
              "(50, 50)"
            ]
          },
          "metadata": {},
          "execution_count": 48
        }
      ]
    },
    {
      "cell_type": "code",
      "source": [
        "train_split = int(0.8 * len(X))\n",
        "X_train, y_train = X[:train_split], y[:train_split]\n",
        "X_test, y_test = X[train_split:], y[train_split:]\n",
        "\n",
        "len(X_train), len(y_train), len(X_test), len(y_test)"
      ],
      "metadata": {
        "colab": {
          "base_uri": "https://localhost:8080/"
        },
        "id": "jc8kbHH6jnLO",
        "outputId": "4451c0bb-984a-4246-c6c0-6ffb016a949e"
      },
      "execution_count": null,
      "outputs": [
        {
          "output_type": "execute_result",
          "data": {
            "text/plain": [
              "(40, 40, 10, 10)"
            ]
          },
          "metadata": {},
          "execution_count": 49
        }
      ]
    },
    {
      "cell_type": "code",
      "source": [
        "def plot_predictions(train_data=X_train,\n",
        "                     train_labels=y_train,\n",
        "                     test_data=X_test,\n",
        "                     test_labels=y_test,\n",
        "                     predictions=None):\n",
        "  plt.figure(figsize=(10,7))\n",
        "  # plot training in blue\n",
        "  plt.scatter(train_data, train_labels, c='b', s=4, label=\"Training Data\")\n",
        "  # plot testing data in red\n",
        "  plt.scatter(test_data, test_labels, c='g', s=4, label=\"Testing Data\")\n",
        "  if predictions is not None:\n",
        "    plt.scatter(test_data, predictions, c='r', s=4, label=\"Predictions\")\n",
        "\n",
        "  #show legend\n",
        "  plt.legend(prop={'size': 14})"
      ],
      "metadata": {
        "id": "rqYsI29tkVZO"
      },
      "execution_count": null,
      "outputs": []
    },
    {
      "cell_type": "code",
      "source": [
        "plot_predictions();"
      ],
      "metadata": {
        "colab": {
          "base_uri": "https://localhost:8080/",
          "height": 455
        },
        "id": "uoUUbvbxnBFZ",
        "outputId": "1f62b08f-dbf6-4128-f734-f34bd673e28f"
      },
      "execution_count": null,
      "outputs": [
        {
          "output_type": "display_data",
          "data": {
            "text/plain": [
              "<Figure size 1000x700 with 1 Axes>"
            ],
            "image/png": "[encoded data removed]"
          },
          "metadata": {}
        }
      ]
    },
    {
      "cell_type": "code",
      "source": [
        "# create a linear regression model class\n",
        "class LinearRegressionModel(nn.Module):\n",
        "  def __init__(self):\n",
        "    super().__init__()\n",
        "    self.weights= nn.Parameter(torch.randn(1, \n",
        "                                           dtype=torch.float),\n",
        "                               requires_grad=True)\n",
        "    \n",
        "    self.bias = nn.Parameter(torch.randn(1, \n",
        "                                           dtype=torch.float),\n",
        "                               requires_grad=True)\n",
        "    \n",
        "    \n",
        "    # forward defines the computation in the model\n",
        "  def forward(self, x: torch.Tensor) -> torch.Tensor:\n",
        "    return self.weights * x * self.bias"
      ],
      "metadata": {
        "id": "wUBBjMMvnUZA"
      },
      "execution_count": null,
      "outputs": []
    },
    {
      "cell_type": "code",
      "source": [
        "# set manual seed as nn.Parameter are randomly initialized\n",
        "torch.manual_seed(42)\n",
        "\n",
        "# create and istance of the regression model\n",
        "model_0 = LinearRegressionModel()\n",
        "\n",
        "#check the nn.parameter(s) within the nn.Module subclass we created\n",
        "list(model_0.parameters())"
      ],
      "metadata": {
        "colab": {
          "base_uri": "https://localhost:8080/"
        },
        "id": "ukeOdDRWp1hx",
        "outputId": "9f9c29c3-6be1-4dd4-f7df-22b2dd056a95"
      },
      "execution_count": null,
      "outputs": [
        {
          "output_type": "execute_result",
          "data": {
            "text/plain": [
              "[Parameter containing:\n",
              " tensor([0.3367], requires_grad=True),\n",
              " Parameter containing:\n",
              " tensor([0.1288], requires_grad=True)]"
            ]
          },
          "metadata": {},
          "execution_count": 53
        }
      ]
    },
    {
      "cell_type": "code",
      "source": [
        "# check what device the model is using\n",
        "next(model_0.parameters()).device"
      ],
      "metadata": {
        "colab": {
          "base_uri": "https://localhost:8080/"
        },
        "id": "RVSNsif-U28Q",
        "outputId": "d5c88b52-7cab-4d65-bc2a-687f3fc31256"
      },
      "execution_count": null,
      "outputs": [
        {
          "output_type": "execute_result",
          "data": {
            "text/plain": [
              "device(type='cpu')"
            ]
          },
          "metadata": {},
          "execution_count": 54
        }
      ]
    },
    {
      "cell_type": "code",
      "source": [
        "# set model to GPU if available\n",
        "model_0.to(device)\n",
        "\n",
        "#check to see if the model has been moved to the GPU\n",
        "next(model_0.parameters()).device"
      ],
      "metadata": {
        "colab": {
          "base_uri": "https://localhost:8080/"
        },
        "id": "4-6b6dZTVA3Z",
        "outputId": "431ab53e-ecc1-46e2-acc3-8dc693514c76"
      },
      "execution_count": null,
      "outputs": [
        {
          "output_type": "execute_result",
          "data": {
            "text/plain": [
              "device(type='cuda', index=0)"
            ]
          },
          "metadata": {},
          "execution_count": 55
        }
      ]
    },
    {
      "cell_type": "code",
      "source": [
        "# Put the data on the cuda device\n",
        "X_train = X_train.to(device)\n",
        "X_test = X_test.to(device)\n",
        "y_train = y_train.to(device)\n",
        "y_test = y_test.to(device)"
      ],
      "metadata": {
        "id": "QZRJ5w5zXe4w"
      },
      "execution_count": null,
      "outputs": []
    },
    {
      "cell_type": "code",
      "source": [
        "# list names parameters\n",
        "model_0.state_dict()"
      ],
      "metadata": {
        "colab": {
          "base_uri": "https://localhost:8080/"
        },
        "id": "r0m1JaZQrNeO",
        "outputId": "a332b9c7-e1e5-4083-d996-ffdb084b26d2"
      },
      "execution_count": null,
      "outputs": [
        {
          "output_type": "execute_result",
          "data": {
            "text/plain": [
              "OrderedDict([('weights', tensor([0.3367], device='cuda:0')),\n",
              "             ('bias', tensor([0.1288], device='cuda:0'))])"
            ]
          },
          "metadata": {},
          "execution_count": 60
        }
      ]
    },
    {
      "cell_type": "code",
      "source": [
        "# create the loss function\n",
        "loss_fn = nn.L1Loss()\n",
        "\n",
        "# create optimizer\n",
        "optimizer = torch.optim.SGD(params=model_0.parameters(), lr=0.01)"
      ],
      "metadata": {
        "id": "UKgEIVmrt-ON"
      },
      "execution_count": null,
      "outputs": []
    },
    {
      "cell_type": "code",
      "source": [
        "## Train and Test model\n",
        "\n",
        "\n",
        "EPOCHS = 1000\n",
        "for epoch in range(EPOCHS):\n",
        "  # start training\n",
        "  model_0.train()\n",
        "\n",
        "  #forward pass\n",
        "  y_pred = model_0(X_train)\n",
        "\n",
        "  #calculate loss\n",
        "  loss = loss_fn(y_pred, y_train)\n",
        "\n",
        "  # zero grad optimizer\n",
        "  optimizer.zero_grad()\n",
        "\n",
        "  # back propagation\n",
        "  loss.backward()\n",
        "\n",
        "  # step the optimizer\n",
        "  optimizer.step()\n",
        "\n",
        "\n",
        "\n",
        "  #start testing\n",
        "  model_0.eval()\n",
        "\n",
        "  #forward pass\n",
        "  with torch.inference_mode():\n",
        "    test_pred = model_0(X_test)\n",
        "\n",
        "  #calculate loss\n",
        "  test_loss = loss_fn(test_pred, y_test)\n",
        "\n",
        "  if epoch % 100 == 0:\n",
        "    print(f\"Epoch: {epoch} | Train loss: {loss} | Test loss: {test_loss}\")"
      ],
      "metadata": {
        "colab": {
          "base_uri": "https://localhost:8080/"
        },
        "id": "3f2UcJx1XO85",
        "outputId": "706d5a28-24ab-496c-b0aa-4bc77cb3b928"
      },
      "execution_count": null,
      "outputs": [
        {
          "output_type": "stream",
          "name": "stdout",
          "text": [
            "Epoch: 0 | Train loss: 0.08838614076375961 | Test loss: 0.20125006139278412\n",
            "Epoch: 100 | Train loss: 0.06120981648564339 | Test loss: 0.13882896304130554\n",
            "Epoch: 200 | Train loss: 0.005946371704339981 | Test loss: 0.01176655013114214\n",
            "Epoch: 300 | Train loss: 0.00040020383312366903 | Test loss: 0.0009939849842339754\n",
            "Epoch: 400 | Train loss: 0.00023955338110681623 | Test loss: 0.001357705914415419\n",
            "Epoch: 500 | Train loss: 7.91455022408627e-05 | Test loss: 0.0017208546632900834\n",
            "Epoch: 600 | Train loss: 8.09876510174945e-05 | Test loss: 0.0017210841178894043\n",
            "Epoch: 700 | Train loss: 0.0002409225417068228 | Test loss: 0.001353192375972867\n",
            "Epoch: 800 | Train loss: 0.000400614197133109 | Test loss: 0.0009858728153631091\n",
            "Epoch: 900 | Train loss: 0.0005600433214567602 | Test loss: 0.0006191655993461609\n"
          ]
        }
      ]
    },
    {
      "cell_type": "code",
      "source": [
        "from pprint import pprint\n",
        "print(\"The model learned the following weights and bias:\")\n",
        "pprint(model_0.state_dict())\n",
        "print(\"\\nAnd the original values for weights and bias are:\")\n",
        "print(f\"weights: {weights}, bias: {bias}\")"
      ],
      "metadata": {
        "colab": {
          "base_uri": "https://localhost:8080/"
        },
        "id": "1ZUeF7LAd4lY",
        "outputId": "f683cc40-8ad9-4439-a7e1-9e3eb25c02dc"
      },
      "execution_count": null,
      "outputs": [
        {
          "output_type": "stream",
          "name": "stdout",
          "text": [
            "The model learned the following weights and bias:\n",
            "OrderedDict([('weights', tensor([0.5657], device='cuda:0')),\n",
            "             ('bias', tensor([0.4740], device='cuda:0'))])\n",
            "\n",
            "And the original values for weights and bias are:\n",
            "weights: 0.3, bias: 0.9\n"
          ]
        }
      ]
    },
    {
      "cell_type": "code",
      "source": [
        "# make predictions\n",
        "\n",
        "# put model in eval mode\n",
        "model_0.eval()\n",
        "\n",
        "#make predictions\n",
        "with torch.inference_mode():\n",
        "  y_preds = model_0(X_test)\n",
        "\n",
        "y_preds"
      ],
      "metadata": {
        "colab": {
          "base_uri": "https://localhost:8080/"
        },
        "id": "OeEGkK96fzdR",
        "outputId": "c274e4c6-5ac4-4b8e-e8ed-ec041e1caad2"
      },
      "execution_count": null,
      "outputs": [
        {
          "output_type": "execute_result",
          "data": {
            "text/plain": [
              "tensor([[0.2145],\n",
              "        [0.2199],\n",
              "        [0.2253],\n",
              "        [0.2306],\n",
              "        [0.2360],\n",
              "        [0.2413],\n",
              "        [0.2467],\n",
              "        [0.2521],\n",
              "        [0.2574],\n",
              "        [0.2628]], device='cuda:0')"
            ]
          },
          "metadata": {},
          "execution_count": 65
        }
      ]
    },
    {
      "cell_type": "code",
      "source": [
        "# put the predictions back on the cpu to plot them\n",
        "\n",
        "plot_predictions(predictions=y_preds.cpu())"
      ],
      "metadata": {
        "colab": {
          "base_uri": "https://localhost:8080/",
          "height": 455
        },
        "id": "kOBwas9YgkrP",
        "outputId": "53b51111-f507-4fa5-aec0-0cddf7a297da"
      },
      "execution_count": null,
      "outputs": [
        {
          "output_type": "display_data",
          "data": {
            "text/plain": [
              "<Figure size 1000x700 with 1 Axes>"
            ],
            "image/png": "[encoded data removed]"
          },
          "metadata": {}
        }
      ]
    },
    {
      "cell_type": "code",
      "source": [
        "# Saving and loading a model\n",
        "from pathlib import Path\n",
        "\n",
        "# create model directory\n",
        "MODEL_PATH = Path(\"models\")\n",
        "MODEL_PATH.mkdir(parents=True, exist_ok=True)\n",
        "\n",
        "# create model save path\n",
        "MODEL_NAME = '01.pytorch_model_0_Ex_1.pth'\n",
        "MODEL_SAVE_PATH = MODEL_PATH / MODEL_NAME\n",
        "\n",
        "# save the model state dict\n",
        "torch.save(obj=model_0.state_dict(),\n",
        "           f=MODEL_SAVE_PATH)\n",
        "print(f\"model_0, saved to {MODEL_SAVE_PATH}\")"
      ],
      "metadata": {
        "colab": {
          "base_uri": "https://localhost:8080/"
        },
        "id": "H1NyX161g757",
        "outputId": "003d3e57-458f-4ed0-f15b-85a35187dbd7"
      },
      "execution_count": null,
      "outputs": [
        {
          "output_type": "stream",
          "name": "stdout",
          "text": [
            "model_0, saved to models/01.pytorch_model_0_Ex_1.pth\n"
          ]
        }
      ]
    },
    {
      "cell_type": "code",
      "source": [
        "# Instantiate fresh instance of the LinearRegressionModel\n",
        "loaded_model_1 = LinearRegressionModel() \n",
        "\n",
        "#load the saved state_dict\n",
        "loaded_model_1.load_state_dict(torch.load(MODEL_SAVE_PATH))\n",
        "\n",
        "#put model on target device\n",
        "loaded_model_1.to(device)\n",
        "\n",
        "print(f\"Loaded model: \\n{loaded_model_1}\")\n",
        "print(f\"Model on device:\\n{next(loaded_model_1.parameters()).device}\")"
      ],
      "metadata": {
        "colab": {
          "base_uri": "https://localhost:8080/"
        },
        "id": "T_ap6u7Pjuyc",
        "outputId": "e9c97000-8809-4522-e0d0-371d58ff3a34"
      },
      "execution_count": null,
      "outputs": [
        {
          "output_type": "stream",
          "name": "stdout",
          "text": [
            "Loaded model: \n",
            "LinearRegressionModel()\n",
            "Model on device:\n",
            "cuda:0\n"
          ]
        }
      ]
    },
    {
      "cell_type": "code",
      "source": [
        "# evaluate loaded model\n",
        "loaded_model_1.eval()\n",
        "with torch.inference_mode():\n",
        "  loaded_model_1_preds = loaded_model_1(X_test)\n",
        "\n",
        "y_preds == loaded_model_1_preds"
      ],
      "metadata": {
        "colab": {
          "base_uri": "https://localhost:8080/"
        },
        "id": "dIHQVGqUltDU",
        "outputId": "fba1cda8-dba1-4de2-99b3-bac83fb28bc4"
      },
      "execution_count": null,
      "outputs": [
        {
          "output_type": "execute_result",
          "data": {
            "text/plain": [
              "tensor([[True],\n",
              "        [True],\n",
              "        [True],\n",
              "        [True],\n",
              "        [True],\n",
              "        [True],\n",
              "        [True],\n",
              "        [True],\n",
              "        [True],\n",
              "        [True]], device='cuda:0')"
            ]
          },
          "metadata": {},
          "execution_count": 70
        }
      ]
    }
  ]
}